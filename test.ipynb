{
 "cells": [
  {
   "cell_type": "markdown",
   "id": "5ac8f793-5fed-4646-8d68-9ebfc5e4c67c",
   "metadata": {},
   "source": [
    "# Voila test"
   ]
  },
  {
   "cell_type": "code",
   "execution_count": null,
   "id": "057219d0-fe3c-4c08-b101-8b7f72e437f9",
   "metadata": {},
   "outputs": [],
   "source": [
    "import ipywidgets as widgets\n",
    "from dash import Dash, dcc, html, Input, Output\n",
    "import plotly.express as px\n",
    "import pandas as pd\n",
    "\n",
    "# Sample Data\n",
    "df = px.data.iris()\n",
    "\n",
    "# Dash App inside Jupyter\n",
    "app = Dash(__name__)\n",
    "\n",
    "app.layout = html.Div([\n",
    "    html.H1(\"Iris Dataset Visualization\"),\n",
    "    dcc.Dropdown(\n",
    "        id='feature-dropdown',\n",
    "        options=[{'label': col, 'value': col} for col in df.columns if df[col].dtype != 'object'],\n",
    "        value='sepal_length',\n",
    "        clearable=False\n",
    "    ),\n",
    "    dcc.Graph(id='scatter-plot')\n",
    "])\n",
    "\n",
    "@app.callback(\n",
    "    Output('scatter-plot', 'figure'),\n",
    "    Input('feature-dropdown', 'value')\n",
    ")\n",
    "def update_chart(feature):\n",
    "    fig = px.histogram(df, x=feature, nbins=20, title=f\"Distribution of {feature}\")\n",
    "    return fig\n",
    "\n",
    "# Run Dash app in inline mode (for Jupyter Notebook)\n",
    "app.run(host=\"0.0.0.0\", port=8080)"
   ]
  }
 ],
 "metadata": {
  "kernelspec": {
   "display_name": "Python 3 (ipykernel)",
   "language": "python",
   "name": "python3"
  },
  "language_info": {
   "codemirror_mode": {
    "name": "ipython",
    "version": 3
   },
   "file_extension": ".py",
   "mimetype": "text/x-python",
   "name": "python",
   "nbconvert_exporter": "python",
   "pygments_lexer": "ipython3",
   "version": "3.9.18"
  }
 },
 "nbformat": 4,
 "nbformat_minor": 5
}
