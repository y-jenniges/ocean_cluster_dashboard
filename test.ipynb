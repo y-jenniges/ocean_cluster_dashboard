{
 "cells": [
  {
   "cell_type": "code",
   "execution_count": 8,
   "id": "057219d0-fe3c-4c08-b101-8b7f72e437f9",
   "metadata": {},
   "outputs": [],
   "source": [
    "import ipywidgets as widgets\n",
    "from dash import Dash, dcc, html, Input, Output\n",
    "import plotly.express as px\n",
    "import pandas as pd\n",
    "\n",
    "# Sample Data\n",
    "df = px.data.iris()\n",
    "\n",
    "# Dash App inside Jupyter\n",
    "app = Dash(__name__)\n",
    "\n",
    "app.layout = html.Div([\n",
    "    html.H1(\"Iris Dataset Visualization\"),\n",
    "    dcc.Dropdown(\n",
    "        id='feature-dropdown',\n",
    "        options=[{'label': col, 'value': col} for col in df.columns if df[col].dtype != 'object'],\n",
    "        value='sepal_length',\n",
    "        clearable=False\n",
    "    ),\n",
    "    dcc.Graph(id='scatter-plot')\n",
    "])\n",
    "\n",
    "@app.callback(\n",
    "    Output('scatter-plot', 'figure'),\n",
    "    Input('feature-dropdown', 'value')\n",
    ")\n",
    "def update_chart(feature):\n",
    "    fig = px.histogram(df, x=feature, nbins=20, title=f\"Distribution of {feature}\")\n",
    "    return fig\n",
    "\n",
    "# Run Dash app in inline mode (for Jupyter Notebook)\n",
    "# app.run_server(mode=\"inline\", host=\"127.0.0.1\", port=7050)\n"
   ]
  },
  {
   "cell_type": "code",
   "execution_count": null,
   "id": "b5175687-2da1-474a-95b2-a501539be58f",
   "metadata": {},
   "outputs": [],
   "source": []
  }
 ],
 "metadata": {
  "kernelspec": {
   "display_name": "Python 3 (ipykernel)",
   "language": "python",
   "name": "python3"
  },
  "language_info": {
   "codemirror_mode": {
    "name": "ipython",
    "version": 3
   },
   "file_extension": ".py",
   "mimetype": "text/x-python",
   "name": "python",
   "nbconvert_exporter": "python",
   "pygments_lexer": "ipython3",
   "version": "3.9.18"
  }
 },
 "nbformat": 4,
 "nbformat_minor": 5
}
