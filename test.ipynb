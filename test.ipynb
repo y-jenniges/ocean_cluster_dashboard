{
 "cells": [
  {
   "cell_type": "markdown",
   "id": "5ac8f793-5fed-4646-8d68-9ebfc5e4c67c",
   "metadata": {},
   "source": [
    "# Voila test"
   ]
  },
  {
   "cell_type": "code",
   "execution_count": null,
   "id": "b84635f2-377a-4cf1-9005-cd8f37e3ea65",
   "metadata": {},
   "outputs": [],
   "source": [
    "from dash import jupyter_dash\n",
    "jupyter_dash.infer_jupyter_proxy_config()"
   ]
  },
  {
   "cell_type": "code",
   "execution_count": 1,
   "id": "057219d0-fe3c-4c08-b101-8b7f72e437f9",
   "metadata": {},
   "outputs": [
    {
     "ename": "NameError",
     "evalue": "name 'os' is not defined",
     "output_type": "error",
     "traceback": [
      "\u001b[1;31m---------------------------------------------------------------------------\u001b[0m",
      "\u001b[1;31mNameError\u001b[0m                                 Traceback (most recent call last)",
      "Cell \u001b[1;32mIn[1], line 10\u001b[0m\n\u001b[0;32m      7\u001b[0m df \u001b[38;5;241m=\u001b[39m px\u001b[38;5;241m.\u001b[39mdata\u001b[38;5;241m.\u001b[39miris()\n\u001b[0;32m      9\u001b[0m \u001b[38;5;66;03m# Dash App inside Jupyter\u001b[39;00m\n\u001b[1;32m---> 10\u001b[0m url_base_pathname\u001b[38;5;241m=\u001b[39m\u001b[43mos\u001b[49m\u001b[38;5;241m.\u001b[39mgetenv(\u001b[38;5;124m'\u001b[39m\u001b[38;5;124mJUPYTERHUB_SERVICE_PREFIX\u001b[39m\u001b[38;5;124m'\u001b[39m, \u001b[38;5;124m'\u001b[39m\u001b[38;5;124m/\u001b[39m\u001b[38;5;124m'\u001b[39m)\n\u001b[0;32m     11\u001b[0m app \u001b[38;5;241m=\u001b[39m Dash(\u001b[38;5;18m__name__\u001b[39m, url_base_pathname\u001b[38;5;241m=\u001b[39murl_base_pathname\u001b[38;5;241m+\u001b[39m\u001b[38;5;124m'\u001b[39m\u001b[38;5;124m/dash\u001b[39m\u001b[38;5;124m'\u001b[39m)\n\u001b[0;32m     13\u001b[0m app\u001b[38;5;241m.\u001b[39mlayout \u001b[38;5;241m=\u001b[39m html\u001b[38;5;241m.\u001b[39mDiv([\n\u001b[0;32m     14\u001b[0m     html\u001b[38;5;241m.\u001b[39mH1(\u001b[38;5;124m\"\u001b[39m\u001b[38;5;124mIris Dataset Visualization\u001b[39m\u001b[38;5;124m\"\u001b[39m),\n\u001b[0;32m     15\u001b[0m     dcc\u001b[38;5;241m.\u001b[39mDropdown(\n\u001b[1;32m   (...)\u001b[0m\n\u001b[0;32m     21\u001b[0m     dcc\u001b[38;5;241m.\u001b[39mGraph(\u001b[38;5;28mid\u001b[39m\u001b[38;5;241m=\u001b[39m\u001b[38;5;124m'\u001b[39m\u001b[38;5;124mscatter-plot\u001b[39m\u001b[38;5;124m'\u001b[39m)\n\u001b[0;32m     22\u001b[0m ])\n",
      "\u001b[1;31mNameError\u001b[0m: name 'os' is not defined"
     ]
    }
   ],
   "source": [
    "import ipywidgets as widgets\n",
    "from dash import Dash, dcc, html, Input, Output\n",
    "import plotly.express as px\n",
    "import pandas as pd\n",
    "import os\n",
    "\n",
    "# Sample Data\n",
    "df = px.data.iris()\n",
    "\n",
    "# Dash App inside Jupyter\n",
    "url_base_pathname=os.getenv('JUPYTERHUB_SERVICE_PREFIX', '/')\n",
    "app = Dash(__name__, url_base_pathname=url_base_pathname+'/dash')\n",
    "\n",
    "app.layout = html.Div([\n",
    "    html.H1(\"Iris Dataset Visualization\"),\n",
    "    dcc.Dropdown(\n",
    "        id='feature-dropdown',\n",
    "        options=[{'label': col, 'value': col} for col in df.columns if df[col].dtype != 'object'],\n",
    "        value='sepal_length',\n",
    "        clearable=False\n",
    "    ),\n",
    "    dcc.Graph(id='scatter-plot')\n",
    "])\n",
    "\n",
    "@app.callback(\n",
    "    Output('scatter-plot', 'figure'),\n",
    "    Input('feature-dropdown', 'value')\n",
    ")\n",
    "def update_chart(feature):\n",
    "    fig = px.histogram(df, x=feature, nbins=20, title=f\"Distribution of {feature}\")\n",
    "    return fig\n",
    "\n",
    "# Run Dash app in inline mode (for Jupyter Notebook)\n",
    "app.run(mode=\"jupyterlab\", host=\"0.0.0.0\", port=8000)"
   ]
  },
  {
   "cell_type": "code",
   "execution_count": null,
   "id": "a003a402-86cd-46e1-93b4-9b00d6dd983c",
   "metadata": {},
   "outputs": [],
   "source": []
  },
  {
   "cell_type": "code",
   "execution_count": null,
   "id": "0f388dbb-0bb5-4f90-a61a-e1d347aaec3d",
   "metadata": {},
   "outputs": [],
   "source": []
  }
 ],
 "metadata": {
  "kernelspec": {
   "display_name": "Python 3 (ipykernel)",
   "language": "python",
   "name": "python3"
  },
  "language_info": {
   "codemirror_mode": {
    "name": "ipython",
    "version": 3
   },
   "file_extension": ".py",
   "mimetype": "text/x-python",
   "name": "python",
   "nbconvert_exporter": "python",
   "pygments_lexer": "ipython3",
   "version": "3.9.18"
  }
 },
 "nbformat": 4,
 "nbformat_minor": 5
}
